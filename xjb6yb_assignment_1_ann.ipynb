{
  "nbformat": 4,
  "nbformat_minor": 0,
  "metadata": {
    "colab": {
      "provenance": []
    },
    "kernelspec": {
      "name": "python3",
      "display_name": "Python 3"
    },
    "language_info": {
      "name": "python"
    }
  },
  "cells": [
    {
      "cell_type": "code",
      "execution_count": 1,
      "metadata": {
        "id": "Fvnyhv5GTSrp"
      },
      "outputs": [],
      "source": [
        "from __future__ import print_function\n",
        "\n",
        "from builtins import range\n",
        "from builtins import object\n",
        "import numpy as np\n",
        "import matplotlib.pyplot as plt\n",
        "from past.builtins import xrange\n",
        "\n",
        "class TwoLayerNeuralNetwork(object):\n",
        "    \"\"\"\n",
        "    A two-layer fully-connected neural network. The net has an input dimension of\n",
        "    N, a hidden layer dimension of H, and performs classification over C classes.\n",
        "    We train the network with a softmax loss function and L2 regularization on the\n",
        "    weight matrices. The network uses a ReLU nonlinearity after the first fully\n",
        "    connected layer.\n",
        "\n",
        "    In other words, the network has the following architecture:\n",
        "\n",
        "    input - fully connected layer - ReLU - fully connected layer - softmax\n",
        "\n",
        "    The outputs of the second fully-connected layer are the scores for each class.\n",
        "    \"\"\"\n",
        "\n",
        "    def __init__(self, input_size, hidden_size, output_size, std=1e-4):\n",
        "        \"\"\"\n",
        "        Initialize the model. Weights are initialized to small random values and\n",
        "        biases are initialized to zero. Weights and biases are stored in the\n",
        "        variable self.params, which is a dictionary with the following keys:\n",
        "\n",
        "        W1: First layer weights; has shape (D, H)\n",
        "        b1: First layer biases; has shape (H,)\n",
        "        W2: Second layer weights; has shape (H, C)\n",
        "        b2: Second layer biases; has shape (C,)\n",
        "\n",
        "        Inputs:\n",
        "        - input_size: The dimension D of the input data.\n",
        "        - hidden_size: The number of neurons H in the hidden layer.\n",
        "        - output_size: The number of classes C.\n",
        "        \"\"\"\n",
        "        self.params = {}\n",
        "        self.params['W1'] = std * np.random.randn(input_size, hidden_size)\n",
        "        self.params['b1'] = np.zeros(hidden_size)\n",
        "        self.params['W2'] = std * np.random.randn(hidden_size, output_size)\n",
        "        self.params['b2'] = np.zeros(output_size)\n",
        "\n",
        "    def loss(self, X, y=None, reg=0.0):\n",
        "        \"\"\"\n",
        "        Compute the loss and gradients for a two layer fully connected neural\n",
        "        network.\n",
        "\n",
        "        Inputs:\n",
        "        - X: Input data of shape (N, D). Each X[i] is a training sample.\n",
        "        - y: Vector of training labels. y[i] is the label for X[i], and each y[i] is\n",
        "          an integer in the range 0 <= y[i] < C. This parameter is optional; if it\n",
        "          is not passed then we only return scores, and if it is passed then we\n",
        "          instead return the loss and gradients.\n",
        "        - reg: Regularization strength.\n",
        "\n",
        "        Returns:\n",
        "        If y is None, return a matrix scores of shape (N, C) where scores[i, c] is\n",
        "        the score for class c on input X[i].\n",
        "\n",
        "        If y is not None, instead return a tuple of:\n",
        "        - loss: Loss (data loss and regularization loss) for this batch of training\n",
        "          samples.\n",
        "        - grads: Dictionary mapping parameter names to gradients of those parameters\n",
        "          with respect to the loss function; has the same keys as self.params.\n",
        "        \"\"\"\n",
        "        # Unpack variables from the params dictionary\n",
        "        W1, b1 = self.params['W1'], self.params['b1']\n",
        "        W2, b2 = self.params['W2'], self.params['b2']\n",
        "        N, D = X.shape\n",
        "\n",
        "        # Compute the forward pass\n",
        "        scores = None\n",
        "        #############################################################################\n",
        "        # TODO: Perform the forward pass, computing the class scores for the input. #\n",
        "        # Store the result in the scores variable, which should be an array of      #\n",
        "        # shape (N, C).                                                             #\n",
        "        #############################################################################\n",
        "        # *****START OF YOUR CODE (DO NOT DELETE/MODIFY THIS LINE)*****\n",
        "        layer1 = (X @ W1) + b1\n",
        "        a1 = np.maximum(layer1, 0)\n",
        "        layer2 = (a1 @ W2) + b2\n",
        "        scores = layer2\n",
        "\n",
        "        # *****END OF YOUR CODE (DO NOT DELETE/MODIFY THIS LINE)*****\n",
        "        ###########################################################################\n",
        "        # If the targets are not given then jump out, we're done\n",
        "        if y is None:\n",
        "            return scores\n",
        "\n",
        "        # Compute the loss\n",
        "        loss = None\n",
        "        #############################################################################\n",
        "        # TODO: Finish the forward pass, and compute the loss. This should include  #\n",
        "        # both the data loss and L2 regularization for W1 and W2. Store the result  #\n",
        "        # in the variable loss, which should be a scalar. Use the Softmax           #\n",
        "        # classifier loss.                                                          #\n",
        "        #############################################################################\n",
        "        # *****START OF YOUR CODE (DO NOT DELETE/MODIFY THIS LINE)*****\n",
        "        m = y.shape[0]\n",
        "        softmax = np.exp(scores)/np.sum(np.exp(scores), axis = 1, keepdims=True)\n",
        "        y_hot = np.eye(softmax.shape[1])[y]\n",
        "        loss = -1/m * np.sum(np.log(softmax) * y_hot)\n",
        "        loss += (reg*(np.sum(W1**2) + np.sum(W2**2)))\n",
        "\n",
        "        # *****END OF YOUR CODE (DO NOT DELETE/MODIFY THIS LINE)*****\n",
        "        ###########################################################################\n",
        "        # Backward pass: compute gradients\n",
        "        grads = {}\n",
        "        #############################################################################\n",
        "        # TODO: Compute the backward pass, computing the derivatives of the weights #\n",
        "        # and biases. Store the results in the grads dictionary. For example,       #\n",
        "        # grads['W1'] should store the gradient on W1, and be a matrix of same size #\n",
        "        #############################################################################\n",
        "        # *****START OF YOUR CODE (DO NOT DELETE/MODIFY THIS LINE)*****\n",
        "        # Hint: Hidden -> Output layer gradients\n",
        "\n",
        "        dW2 = np.dot(a1.T, softmax)\n",
        "        db2 = np.sum(softmax, axis = 0)\n",
        "\n",
        "        dlayer1 = softmax.dot(W2.T)\n",
        "        dW1 = np.dot(X.T, dlayer1)\n",
        "        db1 = np.sum(dlayer1, axis = 0)\n",
        "\n",
        "        # Checks:\n",
        "        # print(scores_normalised.shape)\n",
        "        # print(Z.shape)\n",
        "\n",
        "        # Hint: Input -> Hidden layer gradients\n",
        "\n",
        "        # *****END OF YOUR CODE (DO NOT DELETE/MODIFY THIS LINE)*****\n",
        "        ###########################################################################\n",
        "        dW2 += 2*W2*reg\n",
        "        dW1 += 2*W1*reg\n",
        "\n",
        "        # Update the gradients\n",
        "        grads['W2'] = dW2\n",
        "        grads['b2'] = db2\n",
        "        grads['W1'] = dW1\n",
        "        grads['b1'] = db1\n",
        "\n",
        "        return loss, grads\n",
        "\n",
        "    def train(self, X, y, X_val, y_val,\n",
        "              learning_rate=1e-3, learning_rate_decay=0.95,\n",
        "              reg=5e-6, num_iters=100,\n",
        "              batch_size=200, verbose=False):\n",
        "        \"\"\"\n",
        "        Train this neural network using stochastic gradient descent.\n",
        "\n",
        "        Inputs:\n",
        "        - X: A numpy array of shape (N, D) giving training data.\n",
        "        - y: A numpy array f shape (N,) giving training labels; y[i] = c means that\n",
        "          X[i] has label c, where 0 <= c < C.\n",
        "        - X_val: A numpy array of shape (N_val, D) giving validation data.\n",
        "        - y_val: A numpy array of shape (N_val,) giving validation labels.\n",
        "        - learning_rate: Scalar giving learning rate for optimization.\n",
        "        - learning_rate_decay: Scalar giving factor used to decay the learning rate\n",
        "          after each epoch.\n",
        "        - reg: Scalar giving regularization strength.\n",
        "        - num_iters: Number of steps to take when optimizing.\n",
        "        - batch_size: Number of training examples to use per step.\n",
        "        - verbose: boolean; if true print progress during optimization.\n",
        "        \"\"\"\n",
        "        num_train = X.shape[0]\n",
        "        iterations_per_epoch = max(num_train / batch_size, 1)\n",
        "\n",
        "        # Use SGD to optimize the parameters in self.model\n",
        "        loss_history = []\n",
        "        train_acc_history = []\n",
        "        val_acc_history = []\n",
        "\n",
        "        for it in range(num_iters):\n",
        "            X_batch = None\n",
        "            y_batch = None\n",
        "\n",
        "            #########################################################################\n",
        "            # TODO: Create a random minibatch of training data and labels, storing  #\n",
        "            # them in X_batch and y_batch respectively.                             #\n",
        "            #########################################################################\n",
        "            # *****START OF YOUR CODE (DO NOT DELETE/MODIFY THIS LINE)*****\n",
        "\n",
        "            batch_idx = np.random.randint(0, high=num_train, size=batch_size)\n",
        "            X_batch = X[batch_idx]\n",
        "            y_batch = y[batch_idx]\n",
        "\n",
        "            # *****END OF YOUR CODE (DO NOT DELETE/MODIFY THIS LINE)*****\n",
        "            ###########################################################################\n",
        "            # Compute loss and gradients using the current minibatch\n",
        "            loss, grads = self.loss(X_batch, y=y_batch, reg=reg)\n",
        "            loss_history.append(loss)\n",
        "\n",
        "            #########################################################################\n",
        "            # TODO: Use the gradients in the grads dictionary to update the         #\n",
        "            # parameters of the network (stored in the dictionary self.params)      #\n",
        "            # using stochastic gradient descent. You'll need to use the gradients   #\n",
        "            # stored in the grads dictionary defined above.                         #\n",
        "            #########################################################################\n",
        "            # *****START OF YOUR CODE (DO NOT DELETE/MODIFY THIS LINE)*****\n",
        "\n",
        "\n",
        "            self.params['W1'] -= learning_rate * grads['W1']\n",
        "            self.params['b1'] -= learning_rate * grads['b1']\n",
        "            self.params['W2'] -= learning_rate * grads['W2']\n",
        "            self.params['b2'] -= learning_rate * grads['b2']\n",
        "\n",
        "\n",
        "            # *****END OF YOUR CODE (DO NOT DELETE/MODIFY THIS LINE)*****\n",
        "            ###########################################################################\n",
        "            if verbose and it % 100 == 0:\n",
        "                print('iteration %d / %d: loss %f' % (it, num_iters, loss))\n",
        "\n",
        "            # Every epoch, check train and val accuracy and decay learning rate.\n",
        "            if it % iterations_per_epoch == 0:\n",
        "                # Check accuracy\n",
        "                train_acc = (self.predict(X_batch) == y_batch).mean()\n",
        "                val_acc = (self.predict(X_val) == y_val).mean()\n",
        "                train_acc_history.append(train_acc)\n",
        "                val_acc_history.append(val_acc)\n",
        "\n",
        "                # Decay learning rate\n",
        "                learning_rate *= learning_rate_decay\n",
        "\n",
        "        return {\n",
        "          'loss_history': loss_history,\n",
        "          'train_acc_history': train_acc_history,\n",
        "          'val_acc_history': val_acc_history,\n",
        "        }\n",
        "\n",
        "    def predict(self, X):\n",
        "        \"\"\"\n",
        "        Use the trained weights of this two-layer network to predict labels for\n",
        "        data points. For each data point we predict scores for each of the C\n",
        "        classes, and assign each data point to the class with the highest score.\n",
        "\n",
        "        Inputs:\n",
        "        - X: A numpy array of shape (N, D) giving N D-dimensional data points to\n",
        "          classify.\n",
        "\n",
        "        Returns:\n",
        "        - y_pred: A numpy array of shape (N,) giving predicted labels for each of\n",
        "          the elements of X. For all i, y_pred[i] = c means that X[i] is predicted\n",
        "          to have class c, where 0 <= c < C.\n",
        "        \"\"\"\n",
        "        y_pred = None\n",
        "\n",
        "        ###########################################################################\n",
        "        # TODO: Implement this function; it should be VERY simple!                #\n",
        "        ###########################################################################\n",
        "        # *****START OF YOUR CODE (DO NOT DELETE/MODIFY THIS LINE)*****\n",
        "        W1, b1 = self.params['W1'], self.params['b1']\n",
        "        W2, b2 = self.params['W2'], self.params['b2']\n",
        "\n",
        "        layer1 = np.dot(X, W1) + b1.T\n",
        "\n",
        "        a1 = np.maximum(0,layer1) #ReLU\n",
        "\n",
        "        layer2 = np.dot(a1, W2) + b2.T\n",
        "\n",
        "        a2 = np.exp(layer2)/np.sum(np.exp(layer2), axis=1, keepdims=True) #softmax\n",
        "\n",
        "        y_pred = np.argmax(a2, axis=1)\n",
        "\n",
        "        #Checks:\n",
        "        #print(\"Y pred shape :\"+str(y_pred.shape))\n",
        "        # *****END OF YOUR CODE (DO NOT DELETE/MODIFY THIS LINE)*****\n",
        "        ###########################################################################\n",
        "        return y_pred"
      ]
    },
    {
      "cell_type": "code",
      "source": [
        "### HELPER FUNCTIONS: DO NOT MODIFY ###\n",
        "from __future__ import print_function\n",
        "from builtins import range\n",
        "from past.builtins import xrange\n",
        "import numpy as np\n",
        "from random import randrange\n",
        "\n",
        "def eval_numerical_gradient(f, x, verbose=True, h=0.00001):\n",
        "    \"\"\"\n",
        "    a naive implementation of numerical gradient of f at x\n",
        "    - f should be a function that takes a single argument\n",
        "    - x is the point (numpy array) to evaluate the gradient at\n",
        "    \"\"\"\n",
        "\n",
        "    fx = f(x) # evaluate function value at original point\n",
        "    grad = np.zeros_like(x)\n",
        "    # iterate over all indexes in x\n",
        "    it = np.nditer(x, flags=['multi_index'], op_flags=['readwrite'])\n",
        "    while not it.finished:\n",
        "\n",
        "        # evaluate function at x+h\n",
        "        ix = it.multi_index\n",
        "        oldval = x[ix]\n",
        "        x[ix] = oldval + h # increment by h\n",
        "        fxph = f(x) # evalute f(x + h)\n",
        "        x[ix] = oldval - h\n",
        "        fxmh = f(x) # evaluate f(x - h)\n",
        "        x[ix] = oldval # restore\n",
        "\n",
        "        # compute the partial derivative with centered formula\n",
        "        grad[ix] = (fxph - fxmh) / (2 * h) # the slope\n",
        "        if verbose:\n",
        "            print(ix, grad[ix])\n",
        "        it.iternext() # step to next dimension\n",
        "\n",
        "    return grad\n",
        "\n",
        "\n",
        "def eval_numerical_gradient_array(f, x, df, h=1e-5):\n",
        "    \"\"\"\n",
        "    Evaluate a numeric gradient for a function that accepts a numpy\n",
        "    array and returns a numpy array.\n",
        "    \"\"\"\n",
        "    grad = np.zeros_like(x)\n",
        "    it = np.nditer(x, flags=['multi_index'], op_flags=['readwrite'])\n",
        "    while not it.finished:\n",
        "        ix = it.multi_index\n",
        "\n",
        "        oldval = x[ix]\n",
        "        x[ix] = oldval + h\n",
        "        pos = f(x).copy()\n",
        "        x[ix] = oldval - h\n",
        "        neg = f(x).copy()\n",
        "        x[ix] = oldval\n",
        "\n",
        "        grad[ix] = np.sum((pos - neg) * df) / (2 * h)\n",
        "        it.iternext()\n",
        "    return grad\n",
        "\n",
        "\n",
        "def eval_numerical_gradient_blobs(f, inputs, output, h=1e-5):\n",
        "    \"\"\"\n",
        "    Compute numeric gradients for a function that operates on input\n",
        "    and output blobs.\n",
        "\n",
        "    We assume that f accepts several input blobs as arguments, followed by a\n",
        "    blob where outputs will be written. For example, f might be called like:\n",
        "\n",
        "    f(x, w, out)\n",
        "\n",
        "    where x and w are input Blobs, and the result of f will be written to out.\n",
        "\n",
        "    Inputs:\n",
        "    - f: function\n",
        "    - inputs: tuple of input blobs\n",
        "    - output: output blob\n",
        "    - h: step size\n",
        "    \"\"\"\n",
        "    numeric_diffs = []\n",
        "    for input_blob in inputs:\n",
        "        diff = np.zeros_like(input_blob.diffs)\n",
        "        it = np.nditer(input_blob.vals, flags=['multi_index'],\n",
        "                       op_flags=['readwrite'])\n",
        "        while not it.finished:\n",
        "            idx = it.multi_index\n",
        "            orig = input_blob.vals[idx]\n",
        "\n",
        "            input_blob.vals[idx] = orig + h\n",
        "            f(*(inputs + (output,)))\n",
        "            pos = np.copy(output.vals)\n",
        "            input_blob.vals[idx] = orig - h\n",
        "            f(*(inputs + (output,)))\n",
        "            neg = np.copy(output.vals)\n",
        "            input_blob.vals[idx] = orig\n",
        "\n",
        "            diff[idx] = np.sum((pos - neg) * output.diffs) / (2.0 * h)\n",
        "\n",
        "            it.iternext()\n",
        "        numeric_diffs.append(diff)\n",
        "    return numeric_diffs\n",
        "\n",
        "\n",
        "def eval_numerical_gradient_net(net, inputs, output, h=1e-5):\n",
        "    return eval_numerical_gradient_blobs(lambda *args: net.forward(),\n",
        "                inputs, output, h=h)\n",
        "\n",
        "\n",
        "def grad_check_sparse(f, x, analytic_grad, num_checks=10, h=1e-5):\n",
        "    \"\"\"\n",
        "    sample a few random elements and only return numerical\n",
        "    in this dimensions.\n",
        "    \"\"\"\n",
        "\n",
        "    for i in range(num_checks):\n",
        "        ix = tuple([randrange(m) for m in x.shape])\n",
        "\n",
        "        oldval = x[ix]\n",
        "        x[ix] = oldval + h # increment by h\n",
        "        fxph = f(x) # evaluate f(x + h)\n",
        "        x[ix] = oldval - h # increment by h\n",
        "        fxmh = f(x) # evaluate f(x - h)\n",
        "        x[ix] = oldval # reset\n",
        "\n",
        "        grad_numerical = (fxph - fxmh) / (2 * h)\n",
        "        grad_analytic = analytic_grad[ix]\n",
        "        rel_error = (abs(grad_numerical - grad_analytic) /\n",
        "                    (abs(grad_numerical) + abs(grad_analytic)))\n",
        "        print('numerical: %f analytic: %f, relative error: %e'\n",
        "              %(grad_numerical, grad_analytic, rel_error))\n",
        "\n",
        "\n",
        "import numpy as np\n",
        "import matplotlib.pyplot as plt\n",
        "\n",
        "%matplotlib inline\n",
        "plt.rcParams['figure.figsize'] = (10.0, 8.0) # set default size of plots\n",
        "plt.rcParams['image.interpolation'] = 'nearest'\n",
        "plt.rcParams['image.cmap'] = 'gray'\n",
        "\n",
        "# for auto-reloading external modules\n",
        "# see http://stackoverflow.com/questions/1907993/autoreload-of-modules-in-ipython\n",
        "%load_ext autoreload\n",
        "%autoreload 2\n",
        "\n",
        "def rel_error(x, y):\n",
        "    \"\"\" returns relative error \"\"\"\n",
        "    return np.max(np.abs(x - y) / (np.maximum(1e-8, np.abs(x) + np.abs(y))))"
      ],
      "metadata": {
        "id": "JJs5MddNgULd"
      },
      "execution_count": 2,
      "outputs": []
    },
    {
      "cell_type": "markdown",
      "source": [
        "# Implementing a Neural Network\n",
        "\n",
        "In this exercise we will develop a neural network with fully-connected layers to perform classification, and test it out on the CIFAR-10 dataset.\n"
      ],
      "metadata": {
        "id": "XBv3Ddapfbfc"
      }
    },
    {
      "cell_type": "markdown",
      "source": [
        "We will use the class TwoLayerNet object to represent instances of our network. The network parameters are stored in the instance variable self.params where keys are string parameter names and values are numpy arrays. Below, we initialize toy data and a toy model that we will use to develop your implementation."
      ],
      "metadata": {
        "id": "6twh68GXfOIs"
      }
    },
    {
      "cell_type": "code",
      "source": [
        "# Create a small net and some toy data to check your implementations.\n",
        "# Note that we set the random seed for repeatable experiments.\n",
        "\n",
        "input_size = 4\n",
        "hidden_size = 10\n",
        "num_classes = 3\n",
        "num_inputs = 5\n",
        "\n",
        "def init_sample_model():\n",
        "    np.random.seed(0)\n",
        "    return TwoLayerNeuralNetwork(input_size, hidden_size, num_classes, std=1e-1)\n",
        "\n",
        "def generate_sample_data():\n",
        "    np.random.seed(1)\n",
        "    X = 10 * np.random.randn(num_inputs, input_size)\n",
        "    y = np.array([0, 1, 2, 2, 1])\n",
        "    return X, y\n",
        "\n",
        "myNeuralNetwork = init_sample_model()\n",
        "X, y = generate_sample_data()"
      ],
      "metadata": {
        "id": "OCEoiBWx0-qQ"
      },
      "execution_count": 3,
      "outputs": []
    },
    {
      "cell_type": "markdown",
      "source": [
        "## Forward pass: compute scores\n",
        "\n",
        "The method TwoLayerNet.loss is very similar to the loss functions you have written for the SVM and Softmax exercises: It takes the data and weights and computes the class scores, the loss, and the gradients on the parameters.\n",
        "\n",
        "Implement the first part of the forward pass which uses the weights and biases to compute the scores for all inputs."
      ],
      "metadata": {
        "id": "XMLDe91Qfkb9"
      }
    },
    {
      "cell_type": "code",
      "source": [
        "scores = myNeuralNetwork.loss(X)\n",
        "print('Your scores:')\n",
        "print(scores)\n",
        "print()\n",
        "print('correct scores:')\n",
        "correct_scores = np.asarray([\n",
        "  [-0.81233741, -1.27654624, -0.70335995],\n",
        "  [-0.17129677, -1.18803311, -0.47310444],\n",
        "  [-0.51590475, -1.01354314, -0.8504215 ],\n",
        "  [-0.15419291, -0.48629638, -0.52901952],\n",
        "  [-0.00618733, -0.12435261, -0.15226949]])\n",
        "print(correct_scores)\n",
        "print()\n",
        "\n",
        "# The difference should be very small. We get < 1e-7\n",
        "print('Difference between your scores and correct scores:')\n",
        "print(np.sum(np.abs(scores - correct_scores)))"
      ],
      "metadata": {
        "id": "9GveTA_70-0S",
        "colab": {
          "base_uri": "https://localhost:8080/"
        },
        "outputId": "1a058e30-4165-4223-a335-8c226b583681"
      },
      "execution_count": 4,
      "outputs": [
        {
          "output_type": "stream",
          "name": "stdout",
          "text": [
            "Your scores:\n",
            "[[-0.81233741 -1.27654624 -0.70335995]\n",
            " [-0.17129677 -1.18803311 -0.47310444]\n",
            " [-0.51590475 -1.01354314 -0.8504215 ]\n",
            " [-0.15419291 -0.48629638 -0.52901952]\n",
            " [-0.00618733 -0.12435261 -0.15226949]]\n",
            "\n",
            "correct scores:\n",
            "[[-0.81233741 -1.27654624 -0.70335995]\n",
            " [-0.17129677 -1.18803311 -0.47310444]\n",
            " [-0.51590475 -1.01354314 -0.8504215 ]\n",
            " [-0.15419291 -0.48629638 -0.52901952]\n",
            " [-0.00618733 -0.12435261 -0.15226949]]\n",
            "\n",
            "Difference between your scores and correct scores:\n",
            "3.6802720745909845e-08\n"
          ]
        }
      ]
    },
    {
      "cell_type": "markdown",
      "source": [
        "## Forward pass: compute loss\n",
        "\n",
        "In the same function, implement the second part that computes the data and regularization loss."
      ],
      "metadata": {
        "id": "1mMBYMnaf7WR"
      }
    },
    {
      "cell_type": "code",
      "source": [
        "loss, _ = myNeuralNetwork.loss(X, y, reg=0.05)\n",
        "correct_loss = 1.30378789133\n",
        "\n",
        "# should be very small, we get < 1e-12\n",
        "print('Difference between your loss and correct loss:')\n",
        "print(np.sum(np.abs(loss - correct_loss)))"
      ],
      "metadata": {
        "id": "Z-Eqv6Kd0-76",
        "colab": {
          "base_uri": "https://localhost:8080/"
        },
        "outputId": "455c54e4-f5ec-43d6-e876-8783a8312f29"
      },
      "execution_count": 5,
      "outputs": [
        {
          "output_type": "stream",
          "name": "stdout",
          "text": [
            "Difference between your loss and correct loss:\n",
            "1.7963408538435033e-13\n"
          ]
        }
      ]
    },
    {
      "cell_type": "markdown",
      "source": [
        "## Backward pass\n",
        "\n",
        "Implement the rest of the function. This will compute the gradient of the loss with respect to the variables W1, b1, W2, and b2. Now that you (hopefully!) have a correctly implemented forward pass, you can debug your backward pass using a numeric gradient check:"
      ],
      "metadata": {
        "id": "8kEp7kamgCE_"
      }
    },
    {
      "cell_type": "code",
      "source": [
        "# Use numeric gradient checking to check your implementation of the backward pass.\n",
        "# If your implementation is correct, the difference between the numeric and\n",
        "# analytic gradients should be less than 1e-8 for each of W1, W2, b1, and b2.\n",
        "\n",
        "loss, grads = myNeuralNetwork.loss(X, y, reg=0.05)\n",
        "\n",
        "# these should all be less than 1e-8 or so\n",
        "for param_name in grads:\n",
        "    f = lambda W: myNeuralNetwork.loss(X, y, reg=0.05)[0]\n",
        "    param_grad_num = eval_numerical_gradient(f, myNeuralNetwork.params[param_name], verbose=False)\n",
        "    print('%s max relative error: %e' % (param_name, rel_error(param_grad_num, grads[param_name])))"
      ],
      "metadata": {
        "id": "A7vRKyMOgCQN",
        "colab": {
          "base_uri": "https://localhost:8080/"
        },
        "outputId": "e33bf9cf-430c-4938-b359-c16b317052ad"
      },
      "execution_count": 6,
      "outputs": [
        {
          "output_type": "stream",
          "name": "stdout",
          "text": [
            "W2 max relative error: 1.000000e+00\n",
            "b2 max relative error: 1.000000e+00\n",
            "W1 max relative error: 1.000000e+00\n",
            "b1 max relative error: 1.000000e+00\n"
          ]
        }
      ]
    },
    {
      "cell_type": "markdown",
      "source": [
        "## Train the network\n",
        "\n",
        "To train the network we will use stochastic gradient descent (SGD), similar to the SVM and Softmax classifiers. Look at the function TwoLayerNet.train and fill in the missing sections to implement the training procedure. This should be very similar to the training procedure you used for the SVM and Softmax classifiers. You will also have to implement TwoLayerNet.predict, as the training process periodically performs prediction to keep track of accuracy over time while the network trains.\n",
        "\n",
        "Once you have implemented the method, run the code below to train a two-layer network on toy data. You should achieve a training loss less than 0.02."
      ],
      "metadata": {
        "id": "aWrgA7WAgCze"
      }
    },
    {
      "cell_type": "code",
      "source": [
        "myNeuralNetwork = init_sample_model()\n",
        "stats = myNeuralNetwork.train(X, y, X, y,\n",
        "            learning_rate=1e-1, reg=5e-6,\n",
        "            num_iters=100, verbose=False)\n",
        "\n",
        "print('Final training loss: ', stats['loss_history'][-1])\n",
        "\n",
        "# plot the loss history\n",
        "plt.plot(stats['loss_history'])\n",
        "plt.xlabel('iteration')\n",
        "plt.ylabel('training loss')\n",
        "plt.title('Training Loss history')\n",
        "plt.show()"
      ],
      "metadata": {
        "id": "sUAOjIFigC-x",
        "colab": {
          "base_uri": "https://localhost:8080/",
          "height": 807
        },
        "outputId": "d654d634-a13c-4ed0-8840-adb21b1c77a0"
      },
      "execution_count": 7,
      "outputs": [
        {
          "output_type": "stream",
          "name": "stderr",
          "text": [
            "<ipython-input-1-abc02d709b71>:262: RuntimeWarning: invalid value encountered in divide\n",
            "  a2 = np.exp(layer2)/np.sum(np.exp(layer2), axis=1, keepdims=True) #softmax\n",
            "<ipython-input-1-abc02d709b71>:103: RuntimeWarning: invalid value encountered in divide\n",
            "  softmax = np.exp(scores)/np.sum(np.exp(scores), axis = 1, keepdims=True)\n"
          ]
        },
        {
          "output_type": "stream",
          "name": "stdout",
          "text": [
            "Final training loss:  nan\n"
          ]
        },
        {
          "output_type": "display_data",
          "data": {
            "text/plain": [
              "<Figure size 1000x800 with 1 Axes>"
            ],
            "image/png": "[encoded data removed]"
          },
          "metadata": {}
        }
      ]
    },
    {
      "cell_type": "markdown",
      "source": [
        "\n",
        "## Load the data\n",
        "\n",
        "Now that you have implemented a two-layer network that passes gradient checks and works on toy data, it's time to load up our favorite CIFAR-10 data so we can use it to train a classifier on a real dataset."
      ],
      "metadata": {
        "id": "OTBpdSVIgvb6"
      }
    },
    {
      "cell_type": "code",
      "source": [
        "pip install cifar10"
      ],
      "metadata": {
        "id": "XVM36PN1BrTc",
        "colab": {
          "base_uri": "https://localhost:8080/"
        },
        "outputId": "bc769d0b-000e-45c7-889f-bae6c4e3f604"
      },
      "execution_count": 8,
      "outputs": [
        {
          "output_type": "stream",
          "name": "stdout",
          "text": [
            "Requirement already satisfied: cifar10 in /usr/local/lib/python3.10/dist-packages (1.0.0)\n",
            "Requirement already satisfied: requests in /usr/local/lib/python3.10/dist-packages (from cifar10) (2.31.0)\n",
            "Requirement already satisfied: tqdm in /usr/local/lib/python3.10/dist-packages (from cifar10) (4.66.1)\n",
            "Requirement already satisfied: numpy in /usr/local/lib/python3.10/dist-packages (from cifar10) (1.23.5)\n",
            "Requirement already satisfied: charset-normalizer<4,>=2 in /usr/local/lib/python3.10/dist-packages (from requests->cifar10) (3.2.0)\n",
            "Requirement already satisfied: idna<4,>=2.5 in /usr/local/lib/python3.10/dist-packages (from requests->cifar10) (3.4)\n",
            "Requirement already satisfied: urllib3<3,>=1.21.1 in /usr/local/lib/python3.10/dist-packages (from requests->cifar10) (2.0.4)\n",
            "Requirement already satisfied: certifi>=2017.4.17 in /usr/local/lib/python3.10/dist-packages (from requests->cifar10) (2023.7.22)\n"
          ]
        }
      ]
    },
    {
      "cell_type": "code",
      "source": [
        "# pip install cifar10\n",
        "def load_CIFAR10():\n",
        "  import cifar10\n",
        "  import numpy as np\n",
        "  from sklearn.model_selection import train_test_split\n",
        "\n",
        "  images = []\n",
        "  labels = []\n",
        "  for image, label in cifar10.data_batch_generator():\n",
        "      images.append(image.astype('float32')) # numpy array of an image, which is of shape 32 x 32 x 3\n",
        "      labels.append(label) # integer value of the image label\n",
        "\n",
        "  images = np.array(images)\n",
        "  labels = np.array(labels)\n",
        "\n",
        "  X_train, X_test, y_train, y_test = train_test_split(images, labels, test_size=0.33, random_state=42)\n",
        "\n",
        "  return X_train, X_test, y_train, y_test\n",
        "\n",
        "\n",
        "def get_CIFAR10_data(num_training=49000, num_validation=1000, num_test=1000):\n",
        "    \"\"\"\n",
        "    Load the CIFAR-10 dataset from disk and perform preprocessing to prepare\n",
        "    it for the two-layer neural net classifier. These are the same steps as\n",
        "    we used for the SVM, but condensed to a single function.\n",
        "    \"\"\"\n",
        "    # Cleaning up variables to prevent loading data multiple times (which may cause memory issue)\n",
        "    try:\n",
        "       del X_train, y_train\n",
        "       del X_test, y_test\n",
        "       print('Clear previously loaded data.')\n",
        "    except:\n",
        "       pass\n",
        "\n",
        "    X_train, X_test, y_train, y_test = load_CIFAR10()\n",
        "\n",
        "    # Subsample the data\n",
        "    mask = list(range(num_training, num_training + num_validation))\n",
        "    X_val = X_train[mask]\n",
        "    y_val = y_train[mask]\n",
        "    mask = list(range(num_training))\n",
        "    X_train = X_train[mask]\n",
        "    y_train = y_train[mask]\n",
        "    mask = list(range(num_test))\n",
        "    X_test = X_test[mask]\n",
        "    y_test = y_test[mask]\n",
        "\n",
        "    # Normalize the data: subtract the mean image\n",
        "    mean_image = np.mean(X_train, axis=0)\n",
        "    X_train -= mean_image\n",
        "    X_val -= mean_image\n",
        "    X_test -= mean_image\n",
        "\n",
        "    # Reshape data to rows\n",
        "    X_train = X_train.reshape(num_training, -1)\n",
        "    X_val = X_val.reshape(num_validation, -1)\n",
        "    X_test = X_test.reshape(num_test, -1)\n",
        "\n",
        "    return X_train, y_train, X_val, y_val, X_test, y_test\n",
        "\n",
        "\n",
        "# Invoke the above function to get our data.\n",
        "X_train, y_train, X_val, y_val, X_test, y_test = get_CIFAR10_data()\n",
        "print('Train data shape: ', X_train.shape)\n",
        "print('Train labels shape: ', y_train.shape)\n",
        "print('Validation data shape: ', X_val.shape)\n",
        "print('Validation labels shape: ', y_val.shape)\n",
        "print('Test data shape: ', X_test.shape)\n",
        "print('Test labels shape: ', y_test.shape)"
      ],
      "metadata": {
        "id": "F9gKzR2728_O",
        "colab": {
          "base_uri": "https://localhost:8080/"
        },
        "outputId": "044b99b0-1817-4def-ebe4-ca63aea9b15e"
      },
      "execution_count": 10,
      "outputs": [
        {
          "output_type": "stream",
          "name": "stdout",
          "text": [
            "Train data shape:  (49000, 3072)\n",
            "Train labels shape:  (49000,)\n",
            "Validation data shape:  (1000, 3072)\n",
            "Validation labels shape:  (1000,)\n",
            "Test data shape:  (1000, 3072)\n",
            "Test labels shape:  (1000,)\n"
          ]
        }
      ]
    },
    {
      "cell_type": "markdown",
      "source": [
        "## Train a network\n",
        "\n",
        "To train our network we will use SGD. In addition, we will adjust the learning rate with an exponential learning rate schedule as optimization proceeds; after each epoch, we will reduce the learning rate by multiplying it by a decay rate."
      ],
      "metadata": {
        "id": "Gw69_yEhiePd"
      }
    },
    {
      "cell_type": "code",
      "source": [
        "input_size = 32 * 32 * 3\n",
        "hidden_size = 50\n",
        "num_classes = 10\n",
        "network = TwoLayerNeuralNetwork(input_size, hidden_size, num_classes)\n",
        "\n",
        "# Train the network\n",
        "stats = network.train(X_train, y_train, X_val, y_val,\n",
        "            num_iters=1000, batch_size=200,\n",
        "            learning_rate=1e-4, learning_rate_decay=0.95,\n",
        "            reg=0.25, verbose=True)\n",
        "\n",
        "# Predict on the validation set\n",
        "val_acc = (network.predict(X_val) == y_val).mean()\n",
        "print('Validation accuracy: ', val_acc)"
      ],
      "metadata": {
        "id": "RVUJRz5kh7Uk",
        "colab": {
          "base_uri": "https://localhost:8080/"
        },
        "outputId": "ff8f36ac-585e-4403-be6a-4bc48923f210"
      },
      "execution_count": 11,
      "outputs": [
        {
          "output_type": "stream",
          "name": "stdout",
          "text": [
            "iteration 0 / 1000: loss 2.302991\n"
          ]
        },
        {
          "output_type": "stream",
          "name": "stderr",
          "text": [
            "<ipython-input-1-abc02d709b71>:103: RuntimeWarning: invalid value encountered in divide\n",
            "  softmax = np.exp(scores)/np.sum(np.exp(scores), axis = 1, keepdims=True)\n",
            "<ipython-input-1-abc02d709b71>:105: RuntimeWarning: divide by zero encountered in log\n",
            "  loss = -1/m * np.sum(np.log(softmax) * y_hot)\n",
            "<ipython-input-1-abc02d709b71>:105: RuntimeWarning: invalid value encountered in multiply\n",
            "  loss = -1/m * np.sum(np.log(softmax) * y_hot)\n"
          ]
        },
        {
          "output_type": "stream",
          "name": "stdout",
          "text": [
            "iteration 100 / 1000: loss nan\n",
            "iteration 200 / 1000: loss nan\n",
            "iteration 300 / 1000: loss nan\n",
            "iteration 400 / 1000: loss nan\n",
            "iteration 500 / 1000: loss nan\n",
            "iteration 600 / 1000: loss nan\n",
            "iteration 700 / 1000: loss nan\n",
            "iteration 800 / 1000: loss nan\n",
            "iteration 900 / 1000: loss nan\n",
            "Validation accuracy:  0.106\n"
          ]
        }
      ]
    },
    {
      "cell_type": "markdown",
      "source": [
        "## Debug the training\n",
        "With the default parameters we provided above, you should get a validation accuracy of about 0.29 on the validation set. This isn't very good.\n",
        "\n",
        "One strategy for getting insight into what's wrong is to plot the loss function and the accuracies on the training and validation sets during optimization.\n",
        "\n",
        "Another strategy is to visualize the weights that were learned in the first layer of the network. In most neural networks trained on visual data, the first layer weights typically show some visible structure when visualized."
      ],
      "metadata": {
        "id": "5qQRcGjJikfF"
      }
    },
    {
      "cell_type": "code",
      "source": [
        "# Plot the loss function and train / validation accuracies\n",
        "plt.subplot(2, 1, 1)\n",
        "plt.plot(stats['loss_history'])\n",
        "plt.title('Loss history')\n",
        "plt.xlabel('Iteration')\n",
        "plt.ylabel('Loss')\n",
        "\n",
        "plt.subplot(2, 1, 2)\n",
        "plt.plot(stats['train_acc_history'], label='train')\n",
        "plt.plot(stats['val_acc_history'], label='val')\n",
        "plt.title('Classification accuracy history')\n",
        "plt.xlabel('Epoch')\n",
        "plt.ylabel('Classification accuracy')\n",
        "plt.legend()\n",
        "plt.show()"
      ],
      "metadata": {
        "id": "95fK0pHVimtm",
        "colab": {
          "base_uri": "https://localhost:8080/",
          "height": 718
        },
        "outputId": "bae5ed64-d962-494c-ef24-19f4290b8fe9"
      },
      "execution_count": 12,
      "outputs": [
        {
          "output_type": "display_data",
          "data": {
            "text/plain": [
              "<Figure size 1000x800 with 2 Axes>"
            ],
            "image/png": "[encoded data removed]"
          },
          "metadata": {}
        }
      ]
    },
    {
      "cell_type": "code",
      "source": [
        "# Visualize the weights of the network\n",
        "from math import sqrt, ceil\n",
        "def visualize_grid(Xs, ubound=255.0, padding=1):\n",
        "    \"\"\"\n",
        "    Reshape a 4D tensor of image data to a grid for easy visualization.\n",
        "\n",
        "    Inputs:\n",
        "    - Xs: Data of shape (N, H, W, C)\n",
        "    - ubound: Output grid will have values scaled to the range [0, ubound]\n",
        "    - padding: The number of blank pixels between elements of the grid\n",
        "    \"\"\"\n",
        "    (N, H, W, C) = Xs.shape\n",
        "    grid_size = int(ceil(sqrt(N)))\n",
        "    grid_height = H * grid_size + padding * (grid_size - 1)\n",
        "    grid_width = W * grid_size + padding * (grid_size - 1)\n",
        "    grid = np.zeros((grid_height, grid_width, C))\n",
        "    next_idx = 0\n",
        "    y0, y1 = 0, H\n",
        "    for y in range(grid_size):\n",
        "        x0, x1 = 0, W\n",
        "        for x in range(grid_size):\n",
        "            if next_idx < N:\n",
        "                img = Xs[next_idx]\n",
        "                low, high = np.min(img), np.max(img)\n",
        "                grid[y0:y1, x0:x1] = ubound * (img - low) / (high - low)\n",
        "                next_idx += 1\n",
        "            x0 += W + padding\n",
        "            x1 += W + padding\n",
        "        y0 += H + padding\n",
        "        y1 += H + padding\n",
        "    # grid_max = np.max(grid)\n",
        "    # grid_min = np.min(grid)\n",
        "    # grid = ubound * (grid - grid_min) / (grid_max - grid_min)\n",
        "    return grid\n",
        "\n",
        "def show_net_weights(net):\n",
        "    W1 = net.params['W1']\n",
        "    W1 = W1.reshape(32, 32, 3, -1).transpose(3, 0, 1, 2)\n",
        "    plt.imshow(visualize_grid(W1, padding=3).astype('uint8'))\n",
        "    plt.gca().axis('off')\n",
        "    plt.show()\n",
        "\n",
        "show_net_weights(network)"
      ],
      "metadata": {
        "id": "2evk6BBoiqWj",
        "colab": {
          "base_uri": "https://localhost:8080/",
          "height": 653
        },
        "outputId": "e3d24965-a38b-46c6-c01d-b087c817b291"
      },
      "execution_count": 13,
      "outputs": [
        {
          "output_type": "display_data",
          "data": {
            "text/plain": [
              "<Figure size 1000x800 with 1 Axes>"
            ],
            "image/png": "[encoded data removed]"
          },
          "metadata": {}
        }
      ]
    },
    {
      "cell_type": "markdown",
      "source": [
        "## BONUS POINT: Tune your hyperparameters\n",
        "What's wrong?. Looking at the visualizations above, we see that the loss is decreasing more or less linearly, which seems to suggest that the learning rate may be too low. Moreover, there is no gap between the training and validation accuracy, suggesting that the model we used has low capacity, and that we should increase its size. On the other hand, with a very large model we would expect to see more overfitting, which would manifest itself as a very large gap between the training and validation accuracy.\n",
        "\n",
        "Tuning. Tuning the hyperparameters and developing intuition for how they affect the final performance is a large part of using Neural Networks, so we want you to get a lot of practice. Below, you should experiment with different values of the various hyperparameters, including hidden layer size, learning rate, numer of training epochs, and regularization strength. You might also consider tuning the learning rate decay, but you should be able to get good performance using the default value.\n",
        "\n",
        "Approximate results. You should be aim to achieve a classification accuracy of greater than 48% on the validation set. Our best network gets over 52% on the validation set.\n",
        "\n",
        "Experiment: You goal in this exercise is to get as good of a result on CIFAR-10 as you can (52% could serve as a reference), with a fully-connected Neural Network. Feel free implement your own techniques (e.g. PCA to reduce dimensionality, or adding dropout, or adding features to the solver, etc.).\n",
        "\n",
        "Explain your hyperparameter tuning process below.\n",
        "\n",
        " Answer: Tuning multiple parameters that can have variable values by trying different combinations and obtaining the best model that fits the data."
      ],
      "metadata": {
        "id": "bN8cFRZKiwGX"
      }
    },
    {
      "cell_type": "code",
      "source": [
        "best_net = None # store the best model into this\n",
        "\n",
        "#################################################################################\n",
        "# TODO: Tune hyperparameters using the validation set. Store your best trained  #\n",
        "# model in best_net.                                                            #\n",
        "#                                                                               #\n",
        "# To help debug your network, it may help to use visualizations similar to the  #\n",
        "# ones we used above; these visualizations will have significant qualitative    #\n",
        "# differences from the ones we saw above for the poorly tuned network.          #\n",
        "#                                                                               #\n",
        "# Tweaking hyperparameters by hand can be fun, but you might find it useful to  #\n",
        "# write code to sweep through possible combinations of hyperparameters          #\n",
        "# automatically like we did on the previous exercises.                          #\n",
        "#################################################################################\n",
        "# *****START OF YOUR CODE (DO NOT DELETE/MODIFY THIS LINE)*****\n",
        "\n",
        "\n",
        "\n",
        "\n",
        "# *****END OF YOUR CODE (DO NOT DELETE/MODIFY THIS LINE)*****"
      ],
      "metadata": {
        "id": "O6A1hdiQiqdE"
      },
      "execution_count": 14,
      "outputs": []
    },
    {
      "cell_type": "code",
      "source": [
        "# visualize the weights of the best network\n",
        "show_net_weights(best_net)"
      ],
      "metadata": {
        "id": "DOa7NwLTi-FR",
        "colab": {
          "base_uri": "https://localhost:8080/",
          "height": 322
        },
        "outputId": "463d3887-7d35-4df0-9dec-db0cf1b58dd1"
      },
      "execution_count": 15,
      "outputs": [
        {
          "output_type": "error",
          "ename": "AttributeError",
          "evalue": "ignored",
          "traceback": [
            "\u001b[0;31m---------------------------------------------------------------------------\u001b[0m",
            "\u001b[0;31mAttributeError\u001b[0m                            Traceback (most recent call last)",
            "\u001b[0;32m<ipython-input-15-0439792bf18e>\u001b[0m in \u001b[0;36m<cell line: 2>\u001b[0;34m()\u001b[0m\n\u001b[1;32m      1\u001b[0m \u001b[0;31m# visualize the weights of the best network\u001b[0m\u001b[0;34m\u001b[0m\u001b[0;34m\u001b[0m\u001b[0m\n\u001b[0;32m----> 2\u001b[0;31m \u001b[0mshow_net_weights\u001b[0m\u001b[0;34m(\u001b[0m\u001b[0mbest_net\u001b[0m\u001b[0;34m)\u001b[0m\u001b[0;34m\u001b[0m\u001b[0;34m\u001b[0m\u001b[0m\n\u001b[0m",
            "\u001b[0;32m<ipython-input-13-dcce139492de>\u001b[0m in \u001b[0;36mshow_net_weights\u001b[0;34m(net)\u001b[0m\n\u001b[1;32m     35\u001b[0m \u001b[0;34m\u001b[0m\u001b[0m\n\u001b[1;32m     36\u001b[0m \u001b[0;32mdef\u001b[0m \u001b[0mshow_net_weights\u001b[0m\u001b[0;34m(\u001b[0m\u001b[0mnet\u001b[0m\u001b[0;34m)\u001b[0m\u001b[0;34m:\u001b[0m\u001b[0;34m\u001b[0m\u001b[0;34m\u001b[0m\u001b[0m\n\u001b[0;32m---> 37\u001b[0;31m     \u001b[0mW1\u001b[0m \u001b[0;34m=\u001b[0m \u001b[0mnet\u001b[0m\u001b[0;34m.\u001b[0m\u001b[0mparams\u001b[0m\u001b[0;34m[\u001b[0m\u001b[0;34m'W1'\u001b[0m\u001b[0;34m]\u001b[0m\u001b[0;34m\u001b[0m\u001b[0;34m\u001b[0m\u001b[0m\n\u001b[0m\u001b[1;32m     38\u001b[0m     \u001b[0mW1\u001b[0m \u001b[0;34m=\u001b[0m \u001b[0mW1\u001b[0m\u001b[0;34m.\u001b[0m\u001b[0mreshape\u001b[0m\u001b[0;34m(\u001b[0m\u001b[0;36m32\u001b[0m\u001b[0;34m,\u001b[0m \u001b[0;36m32\u001b[0m\u001b[0;34m,\u001b[0m \u001b[0;36m3\u001b[0m\u001b[0;34m,\u001b[0m \u001b[0;34m-\u001b[0m\u001b[0;36m1\u001b[0m\u001b[0;34m)\u001b[0m\u001b[0;34m.\u001b[0m\u001b[0mtranspose\u001b[0m\u001b[0;34m(\u001b[0m\u001b[0;36m3\u001b[0m\u001b[0;34m,\u001b[0m \u001b[0;36m0\u001b[0m\u001b[0;34m,\u001b[0m \u001b[0;36m1\u001b[0m\u001b[0;34m,\u001b[0m \u001b[0;36m2\u001b[0m\u001b[0;34m)\u001b[0m\u001b[0;34m\u001b[0m\u001b[0;34m\u001b[0m\u001b[0m\n\u001b[1;32m     39\u001b[0m     \u001b[0mplt\u001b[0m\u001b[0;34m.\u001b[0m\u001b[0mimshow\u001b[0m\u001b[0;34m(\u001b[0m\u001b[0mvisualize_grid\u001b[0m\u001b[0;34m(\u001b[0m\u001b[0mW1\u001b[0m\u001b[0;34m,\u001b[0m \u001b[0mpadding\u001b[0m\u001b[0;34m=\u001b[0m\u001b[0;36m3\u001b[0m\u001b[0;34m)\u001b[0m\u001b[0;34m.\u001b[0m\u001b[0mastype\u001b[0m\u001b[0;34m(\u001b[0m\u001b[0;34m'uint8'\u001b[0m\u001b[0;34m)\u001b[0m\u001b[0;34m)\u001b[0m\u001b[0;34m\u001b[0m\u001b[0;34m\u001b[0m\u001b[0m\n",
            "\u001b[0;31mAttributeError\u001b[0m: 'NoneType' object has no attribute 'params'"
          ]
        }
      ]
    },
    {
      "cell_type": "markdown",
      "source": [
        "## Run on the test set\n",
        "\n",
        "When you are done experimenting, you should evaluate your final trained network on the test set; you should get above 48%."
      ],
      "metadata": {
        "id": "XQnKjTJLipPE"
      }
    },
    {
      "cell_type": "code",
      "source": [
        "test_acc = (best_net.predict(X_test) == y_test).mean()\n",
        "print('Test accuracy: ', test_acc)"
      ],
      "metadata": {
        "id": "Jc5Kt-XnjFrh",
        "colab": {
          "base_uri": "https://localhost:8080/",
          "height": 197
        },
        "outputId": "f3b1f39f-4c19-4a45-ea41-c935c26f84d8"
      },
      "execution_count": 16,
      "outputs": [
        {
          "output_type": "error",
          "ename": "AttributeError",
          "evalue": "ignored",
          "traceback": [
            "\u001b[0;31m---------------------------------------------------------------------------\u001b[0m",
            "\u001b[0;31mAttributeError\u001b[0m                            Traceback (most recent call last)",
            "\u001b[0;32m<ipython-input-16-26fd2799494b>\u001b[0m in \u001b[0;36m<cell line: 1>\u001b[0;34m()\u001b[0m\n\u001b[0;32m----> 1\u001b[0;31m \u001b[0mtest_acc\u001b[0m \u001b[0;34m=\u001b[0m \u001b[0;34m(\u001b[0m\u001b[0mbest_net\u001b[0m\u001b[0;34m.\u001b[0m\u001b[0mpredict\u001b[0m\u001b[0;34m(\u001b[0m\u001b[0mX_test\u001b[0m\u001b[0;34m)\u001b[0m \u001b[0;34m==\u001b[0m \u001b[0my_test\u001b[0m\u001b[0;34m)\u001b[0m\u001b[0;34m.\u001b[0m\u001b[0mmean\u001b[0m\u001b[0;34m(\u001b[0m\u001b[0;34m)\u001b[0m\u001b[0;34m\u001b[0m\u001b[0;34m\u001b[0m\u001b[0m\n\u001b[0m\u001b[1;32m      2\u001b[0m \u001b[0mprint\u001b[0m\u001b[0;34m(\u001b[0m\u001b[0;34m'Test accuracy: '\u001b[0m\u001b[0;34m,\u001b[0m \u001b[0mtest_acc\u001b[0m\u001b[0;34m)\u001b[0m\u001b[0;34m\u001b[0m\u001b[0;34m\u001b[0m\u001b[0m\n",
            "\u001b[0;31mAttributeError\u001b[0m: 'NoneType' object has no attribute 'predict'"
          ]
        }
      ]
    },
    {
      "cell_type": "markdown",
      "source": [
        "### Inline Question\n",
        "\n",
        "Now that you have trained a Neural Network classifier, you may find that your testing accuracy is much lower than the training accuracy. In what ways can we decrease this gap? Select all that apply.\n",
        "\n",
        "1. Train on a larger dataset.\n",
        "2. Add more hidden units.\n",
        "3. Increase the regularization strength.\n",
        "4. None of the above.\n"
      ],
      "metadata": {
        "id": "BOJ3noSkjJP4"
      }
    },
    {
      "cell_type": "markdown",
      "source": [
        "1 (Train on a larger dataset) and 3 (Increase the regularization strength) are both ways to decrease the gap between training accuracy and testing accuracy.\n",
        "\n",
        "I would like to note that I am aware the the back propagation portion of this notebook has errors and does not work correctly. I worked with the professor multiple times to fix this as well as spent countless hours just trying to debug this portion of the code and was unable to. Additionally, because the back propagation is faulty, the training also is not returning the proper output but if the back propagation were correct, this would fix this problem.\n",
        "\n",
        "I believe that the error is occurring with the weights not updating in self.params. After experimenting with the code, I found that the weights were updating in the train function but NOT in the loss function (i.e. they were the same weights in the loss function every single time). This is what I believe is causing the error and I have tried to remedy it but have been unable to.\n"
      ],
      "metadata": {
        "id": "E6xbtEL0NWVz"
      }
    }
  ]
}